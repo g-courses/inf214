{
 "cells": [
  {
   "cell_type": "code",
   "execution_count": null,
   "metadata": {
    "vscode": {
     "languageId": "java"
    }
   },
   "outputs": [],
   "source": [
    "class Animal {\n",
    "    protected String sonido;\n",
    "\n",
    "    public Animal() {\n",
    "        sonido = \"Sonido no definido\";\n",
    "    }\n",
    "\n",
    "    public void vocalizar(){\n",
    "        System.out.println(sonido);\n",
    "    }\n",
    "}\n",
    "\n",
    "class Mascota extends Animal {\n",
    "    private String nombreMascota;\n",
    "\n",
    "    public Mascota(){\n",
    "\n",
    "    }\n",
    "\n",
    "    public String nombre(){\n",
    "        return(nombreMascota);\n",
    "    }\n",
    "\n",
    "    public void nombrar(String nombre){\n",
    "        nombreMascota = nombre;\n",
    "    }\n",
    "}\n",
    "\n",
    "class Perro extends  Mascota {\n",
    "\n",
    "    public Perro() {\n",
    "        sonido = \"Ladrar\";\n",
    "    }\n",
    "    \n",
    "}"
   ]
  },
  {
   "cell_type": "code",
   "execution_count": null,
   "metadata": {
    "vscode": {
     "languageId": "java"
    }
   },
   "outputs": [],
   "source": [
    "Mascota miPerro = new Perro();\n",
    "\n",
    "miPerro.nombrar(\"Inti\");\n",
    "\n",
    "System.out.println(\"hola mundo\");\n",
    "System.out.println(\"miPerro.nombre() = \" + miPerro.nombre());"
   ]
  }
 ],
 "metadata": {
  "kernelspec": {
   "display_name": "Java",
   "language": "java",
   "name": "java"
  },
  "language_info": {
   "codemirror_mode": "java",
   "file_extension": ".jshell",
   "mimetype": "text/x-java-source",
   "name": "Java",
   "pygments_lexer": "java",
   "version": "11.0.24+8-post-Ubuntu-1ubuntu320.04"
  }
 },
 "nbformat": 4,
 "nbformat_minor": 2
}
